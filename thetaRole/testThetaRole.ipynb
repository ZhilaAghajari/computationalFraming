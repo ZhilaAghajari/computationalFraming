{
 "cells": [
  {
   "cell_type": "code",
   "execution_count": 1,
   "id": "2ad17336-c321-4b3f-b769-b6365336e7ea",
   "metadata": {},
   "outputs": [
    {
     "name": "stderr",
     "output_type": "stream",
     "text": [
      "/home/zha219/.local/lib/python3.8/site-packages/scipy/__init__.py:143: UserWarning: A NumPy version >=1.19.5 and <1.27.0 is required for this version of SciPy (detected version 1.19.4)\n",
      "  warnings.warn(f\"A NumPy version >={np_minversion} and <{np_maxversion}\"\n"
     ]
    }
   ],
   "source": [
    "import numpy as np\n",
    "import json\n",
    "import argparse\n",
    "import os\n",
    "import random\n",
    "random.seed(2023)\n",
    "\n",
    "import gensim.corpora as corpora\n",
    "from tqdm import tqdm\n",
    "from model import ThetaRoleModel"
   ]
  },
  {
   "cell_type": "code",
   "execution_count": 2,
   "id": "9f6bd898-8198-47a8-9674-5c292596b666",
   "metadata": {},
   "outputs": [
    {
     "data": {
      "text/plain": [
       "_StoreAction(option_strings=['--corpus_path'], dest='corpus_path', nargs='?', const=None, default='data/processed/corpus.json', type=<class 'str'>, choices=None, help=None, metavar=None)"
      ]
     },
     "execution_count": 2,
     "metadata": {},
     "output_type": "execute_result"
    }
   ],
   "source": [
    "parser = argparse.ArgumentParser()\n",
    "\n",
    "# n topics and n latent theta roles\n",
    "parser.add_argument('--K', nargs='?', type=int, default=5)\n",
    "parser.add_argument('--T', nargs='?', type=int, default=2)\n",
    "\n",
    "# dirichlet initialization hyper parameters (static)\n",
    "parser.add_argument('--alpha', nargs='?', type=float, default=0.1) \n",
    "parser.add_argument('--eta', nargs='?', type=float, default=0.1) \n",
    "parser.add_argument('--gamma', nargs='?', type=float, default=0.1) \n",
    "parser.add_argument('--lam', nargs='?', type=float, default=0.1)\n",
    "parser.add_argument('--n_iters', nargs='?', type=int, default=20)\n",
    "parser.add_argument('--corpus_path', nargs='?', type=str, default=\"data/processed/corpus.json\")\n",
    "#args = parser.parse_args()"
   ]
  },
  {
   "cell_type": "markdown",
   "id": "ecf4fffd-c9a9-4116-bb40-627495f2a9f3",
   "metadata": {},
   "source": [
    "# prepare the corpus:"
   ]
  },
  {
   "cell_type": "code",
   "execution_count": 3,
   "id": "aefc368b-d0ee-46af-95bd-29a3b43eb0bb",
   "metadata": {},
   "outputs": [],
   "source": [
    "from malt import MaltParser # source code from nltk library"
   ]
  },
  {
   "cell_type": "code",
   "execution_count": 4,
   "id": "47630b95-0047-46b1-8d70-e5ca2a9a9cb9",
   "metadata": {},
   "outputs": [],
   "source": [
    "import pandas as pd\n",
    "from nltk.tokenize import word_tokenize, sent_tokenize\n",
    "import nltk\n",
    "from tqdm import tqdm\n",
    "import json\n",
    "#from datasets import load_dataset\n",
    "from gensim import utils\n",
    "from collections import defaultdict\n",
    "\n",
    "import re\n",
    "\n",
    "from word import Word\n",
    "# from malt.malt import MaltParser # source code from nltk library\n",
    "from malt import MaltParser # source code from nltk library\n",
    "\n",
    "def process_dataset(docs, stop_words, malt_parser_version='../maltparser-1.7.2', model_version='engmalt.linear-1.7.mco'):\n",
    "    # initalize malt parser model\n",
    "    mp = MaltParser(malt_parser_version, model_version, tagger=nltk.pos_tag)\n",
    "    \n",
    "    #Add more preprocessing:\n",
    "    # replace single smart quote with single straight quote, so as to catch stopword contractions\n",
    "    docs = [re.sub(\"[\\u2018\\u2019]\", \"'\", doc) for doc in docs] #replace qoute with regualar qoutations\n",
    "    #it removes the digits\n",
    "    # docs = [re.sub('\\d+', '', doc) for doc in docs] \n",
    "    docs = [re.sub('(\\/.*?\\.[\\w:]+)', '', doc) for doc in docs]\n",
    "    docs = [re.sub(r\"http\\S+\", '', doc) for doc in docs]\n",
    "    \n",
    "    # create <doc_idx, tokenized_sent> list of sents\n",
    "    sents = [\n",
    "        (i, nltk.word_tokenize(sent))\n",
    "        for i, doc in enumerate(docs)\n",
    "        for sent in nltk.sent_tokenize(utils.to_unicode(str(doc).lower())) # convert doc to lowercase, and sentence tokenized.\n",
    "    ]\n",
    "\n",
    "    # unzip list of tuples\n",
    "    doc_idxs, sents = zip(*sents)\n",
    "\n",
    "    # create parser <generator> and loop through parser to produce dependency tree for each sentence\n",
    "    parser = mp.parse_sents(sents, verbose=True)\n",
    "\n",
    "    # define valid word\n",
    "    stop_words.append('amp');stop_words.append('&amp');stop_words.append('&amp;')\n",
    "    valid_word = lambda word: not word in stop_words and word.isalpha() and len(word) > 2\n",
    "\n",
    "    # initalize dictionary for json output\n",
    "    docs_dict = {\n",
    "        'documents': dict((doc_idx, {'words': [], 'relns': [], 'originaltext': []}) for doc_idx in doc_idxs),\n",
    "        #'documents': dict((doc_idx, {'words': [], 'relns': []}) for doc_idx in doc_idxs),\n",
    "        'vocab': [], \n",
    "        'vocab_relns': [],\n",
    "    }\n",
    "    # initalize vocab variables as sets (no duplicates)\n",
    "    vocab = set()\n",
    "    vocab_relns = set()\n",
    "\n",
    "    i = 0\n",
    "    # loop through list iterators\n",
    "    for list_it in parser:\n",
    "        tree = next(list_it)\n",
    "        # check if valid tree, if not skip\n",
    "        try:\n",
    "            nodes = tree.nodes\n",
    "        except:\n",
    "            continue\n",
    "        \n",
    "        word_relns_hash = defaultdict(list)\n",
    "        for word_idx in nodes:\n",
    "            if word_idx == 0: # skip first\n",
    "                continue\n",
    "            \n",
    "            deps = nodes[word_idx]['deps']\n",
    "\n",
    "            # check for valid dependency relations\n",
    "            if deps:\n",
    "                for reln, idxs in deps.items():\n",
    "                    for idx in idxs:\n",
    "                        dep_reln, gov_reln = f\"{reln}.dep\", f\"{reln}.gov\"\n",
    "                        # add relations to vocab\n",
    "                        vocab_relns.add(dep_reln)\n",
    "                        vocab_relns.add(gov_reln)\n",
    "\n",
    "                        # add reln to word in hashmap\n",
    "                        word_relns_hash[idx].append(dep_reln) # append to dep word\n",
    "                        word_relns_hash[word_idx].append(gov_reln) # append to current word\n",
    "        \n",
    "        # check for valid hashmap\n",
    "        if word_relns_hash:\n",
    "            doc_idx = doc_idxs[i]\n",
    "\n",
    "            # loop through hashmap items and append to dict for future storing\n",
    "            for word_idx, relns in word_relns_hash.items():\n",
    "                word = nodes[word_idx]['word']\n",
    "                relns = [reln for reln in relns if reln != \"punct.gov\"]\n",
    "                if valid_word(word):\n",
    "                    vocab.add(word)\n",
    "                    docs_dict['documents'][doc_idx]['words'].append(word)\n",
    "                    docs_dict['documents'][doc_idx]['relns'].append(relns)\n",
    "                    #@zhila: we need to also add the original document to it as well..\n",
    "                    docs_dict['documents'][doc_idx]['originaltext'] = [docs[doc_idx]]\n",
    "        \n",
    "        i += 1\n",
    "\n",
    "    docs_dict['vocab'] = list(vocab)\n",
    "    docs_dict['vocab_relns'] = list(vocab_relns)\n",
    "\n",
    "    return docs_dict"
   ]
  },
  {
   "cell_type": "markdown",
   "id": "67682340-635c-4336-800b-88c851512d6d",
   "metadata": {},
   "source": [
    "# papare the data for theta role model:"
   ]
  },
  {
   "cell_type": "code",
   "execution_count": 5,
   "id": "ec948105-f0f7-4de4-bd58-e9f08cb8655d",
   "metadata": {},
   "outputs": [],
   "source": [
    "# set the stop words\n",
    "import pickle\n",
    "# with open(\"../Stopword_list\",'rb') as read_file:\n",
    "with open('extra_stopwords','rb') as read_file:\n",
    "    more_stop_words = pickle.load(read_file)"
   ]
  },
  {
   "cell_type": "code",
   "execution_count": 6,
   "id": "8870af4c-2eb7-4fb5-b8d9-343c683b5895",
   "metadata": {},
   "outputs": [],
   "source": [
    "#testing block:\n",
    "data = pd.read_csv(\"../tweets_nytimes.csv\")\n",
    "# data.head()"
   ]
  },
  {
   "cell_type": "code",
   "execution_count": 7,
   "id": "0af112af-c722-43dc-8aa2-931d3c11fb75",
   "metadata": {},
   "outputs": [],
   "source": [
    "#read all the news media articles.. \n",
    "#define the data frame..\n",
    "import csv\n",
    "columns = ['text', 'id']\n",
    "df = pd.DataFrame(columns = columns)\n",
    "news_media_files = ['tweets_nytimes.csv']\n",
    "#news_media_files = ['tweets_nytimes.csv', 'tweets_WSJ.csv','tweets_USATODAY.csv'] \n",
    "for item in news_media_files:\n",
    "    with open(\"../\"+item, \"r\") as csvfile:\n",
    "        csv_content = csv.reader(csvfile,delimiter = ',')\n",
    "        next(csv_content) \n",
    "        for row in csv_content:\n",
    "            df = pd.concat([df, pd.DataFrame([[row[7],row[1]]], columns = columns)])"
   ]
  },
  {
   "cell_type": "code",
   "execution_count": 8,
   "id": "4a107296-e387-4d93-9d5c-80859bd1bf64",
   "metadata": {},
   "outputs": [],
   "source": [
    "# read the data\n",
    "#[UNCOMMENT] uncomment these lines to use own dataset, 2 lines after used for testing\n",
    "#df = pd.read_csv(\"../tweets_nytimes.csv\")\n",
    "data=df.loc[:, [\"id\", \"text\"]]\n",
    "corpus = data['text']\n",
    "# stop word initialization\n",
    "# with open(\"data/utils/stopwords.txt\") as f:\n",
    "#     more_stop_words = f.read().splitlines()\n",
    "stop_words = nltk.corpus.stopwords.words('english')\n",
    "stop_words.extend(more_stop_words)"
   ]
  },
  {
   "cell_type": "code",
   "execution_count": 49,
   "id": "77bb3486-15a1-4485-a090-f86962587f0b",
   "metadata": {},
   "outputs": [],
   "source": [
    "#testing block\n",
    "# docs_dict = process_dataset(corpus, stop_words)\n",
    "# docs_dict['documents'][0]"
   ]
  },
  {
   "cell_type": "code",
   "execution_count": 9,
   "id": "37d1918a-6216-4984-8891-19ecf5e1e789",
   "metadata": {},
   "outputs": [
    {
     "name": "stderr",
     "output_type": "stream",
     "text": [
      "-----------------------------------------------------------------------------\n",
      "                          MaltParser 1.7.2                             \n",
      "-----------------------------------------------------------------------------\n",
      "         MALT (Models and Algorithms for Language Technology) Group          \n",
      "             Vaxjo University and Uppsala University                         \n",
      "                             Sweden                                          \n",
      "-----------------------------------------------------------------------------\n",
      "\n",
      "Started: Thu Jun 15 14:33:07 EDT 2023\n",
      "  Transition system    : Projective\n",
      "  Parser configuration : Stack\n",
      "  Feature model        : eng-liblinear.xml\n",
      "  Classifier           : liblinear\n",
      "  Data Format          : /engmalt.linear-1.7/conllx.xml\n",
      ".          \t      1\t      3s\t    363MB\n",
      ".          \t     10\t      3s\t    363MB\n",
      ".          \t    100\t      4s\t    419MB\n",
      "..........\t   1000\t      8s\t    498MB\n",
      "..........\t   2000\t     11s\t    489MB\n",
      "..........\t   3000\t     13s\t    457MB\n",
      "..........\t   4000\t     15s\t    401MB\n",
      "..........\t   5000\t     16s\t    321MB\n",
      "..........\t   6000\t     18s\t    287MB\n",
      "..........\t   7000\t     20s\t    812MB\n",
      "..........\t   8000\t     21s\t    756MB\n",
      "..........\t   9000\t     23s\t    722MB\n",
      "..........\t  10000\t     25s\t    657MB\n",
      "..........\t  11000\t     26s\t    561MB\n",
      "..........\t  12000\t     28s\t    482MB\n",
      "..........\t  13000\t     29s\t    390MB\n",
      "..........\t  14000\t     31s\t    310MB\n",
      "..........\t  15000\t     32s\t    805MB\n",
      "..........\t  16000\t     34s\t    722MB\n",
      "..........\t  17000\t     35s\t    630MB\n",
      "..........\t  18000\t     37s\t    573MB\n",
      "..........\t  19000\t     38s\t    482MB\n",
      "..........\t  20000\t     40s\t    413MB\n",
      "..........\t  21000\t     42s\t    356MB\n",
      "....       \t  21450\t     42s\t    585MB\n",
      "Parsing time: 00:00:41 (41718 ms)\n",
      "Finished: Thu Jun 15 14:33:50 EDT 2023\n"
     ]
    }
   ],
   "source": [
    "# obtain word relation pairs\n",
    "docs_dict = process_dataset(corpus, stop_words)\n",
    "# convert to json object\n",
    "json_object = json.dumps(docs_dict, indent=4)\n",
    "#Here, we need to also add the original documents... \n",
    "\n",
    "# store json object\n",
    "# with open(\"all_news_tweets_corpus.json\", \"w\") as f:\n",
    "with open(\"ny_news_tweets_corpus.json\", \"w\") as f:\n",
    "    f.write(json_object)\n",
    "# with open(\"news_tweets_corpus.json\", \"w\") as f:\n",
    "#     f.write(json_object)"
   ]
  },
  {
   "cell_type": "code",
   "execution_count": 10,
   "id": "10ee8c0c-da9e-452d-b19f-18ca20748fbe",
   "metadata": {},
   "outputs": [],
   "source": [
    "#set the arguments.\n",
    "K, T= 5, 5\n",
    "alpha, eta, etaprime, gamma, lam , omega= .1, .1, .1, .1, 0.1, 0.1\n",
    "n_iters = 10"
   ]
  },
  {
   "cell_type": "code",
   "execution_count": 10,
   "id": "b6f36770-52e5-4f3f-8bf7-6c375f067afd",
   "metadata": {},
   "outputs": [],
   "source": [
    "# testing block. \n",
    "# type(corpus)\n",
    "# # corpus[0]\n",
    "# # o['documents']\n",
    "# o = json_object\n",
    "# [TODO]: change to BSON instead of JSON for faster io and smaller storage\n",
    "# document preprocessing helpers\n",
    "# theta_model.initialize_variables()\n",
    "# theta_model.fit()"
   ]
  },
  {
   "cell_type": "code",
   "execution_count": 11,
   "id": "be9abcb0-0c3b-49cd-9d52-82e886e8537d",
   "metadata": {},
   "outputs": [],
   "source": [
    "# [TODO]: change to BSON instead of JSON for faster io and smaller storage\n",
    "with open(\"ny_news_tweets_corpus.json\") as json_file:\n",
    "# with open(\"all_news_tweets_corpus.json\") as json_file:\n",
    "# with open(\"news_tweets_corpus.json\") as json_file:\n",
    "    o = json.load(json_file)\n",
    "doc_objects = o['documents'] #words, reln, originaltext\n",
    "docs = [ doc_objects[str(doc_id)]['words'] for doc_id in doc_objects ]\n",
    "text = [ doc_objects[str(doc_id)]['originaltext'] for doc_id in doc_objects ]\n",
    "doc_relns = [ doc_objects[str(doc_id)]['relns'] for doc_id in doc_objects ]\n",
    "vocab = o['vocab']\n",
    "vocab_relns = o['vocab_relns']"
   ]
  },
  {
   "cell_type": "code",
   "execution_count": 12,
   "id": "f8da0723-3d8a-4217-ba6e-4497acf8ba3b",
   "metadata": {},
   "outputs": [],
   "source": [
    "\n",
    "\n",
    "# document preprocessing helpers\n",
    "id2word = corpora.Dictionary(docs)\n",
    "reln2id = {reln:i for i, reln in enumerate(vocab_relns)}\n",
    "corpus = list(map(lambda x: id2word.doc2idx(x), docs))\n",
    "# originaltext = list(map(lambda x: id2word.doc2idx(x), text))\n",
    "#originaltext = list(map(lambda doc_id: doc_objects[str(doc_id)]['originaltext'], doc_objects))\n",
    "originaltext = {doc_id: doc_objects[str(doc_id)]['originaltext'] for doc_id in doc_objects}\n",
    "\n",
    "\n",
    "# initialize scalars from plate diagram\n",
    "D, V, R = len(docs), len(vocab), len(vocab_relns) # n documents, n words, n relns: https://universaldependencies.org/u/dep/\n",
    "\n",
    "# initialize theta role model\n",
    "theta_model = ThetaRoleModel(corpus, originaltext, doc_relns, vocab_relns, id2word, reln2id, n_iters, K, T, D, V, R, alpha, eta, etaprime, gamma, lam, omega)\n",
    "theta_model.initialize_variables()"
   ]
  },
  {
   "cell_type": "code",
   "execution_count": 13,
   "id": "45cc7d37-d4ec-45ce-be4d-63f4cf0c1696",
   "metadata": {},
   "outputs": [],
   "source": [
    "theta_model.p_t_reln_w_z_d"
   ]
  },
  {
   "cell_type": "code",
   "execution_count": 14,
   "id": "ebf1d9c8-213a-4301-b54e-5263231e4561",
   "metadata": {},
   "outputs": [
    {
     "name": "stderr",
     "output_type": "stream",
     "text": [
      "100%|██████████| 10/10 [14:46<00:00, 88.66s/it]"
     ]
    },
    {
     "name": "stdout",
     "output_type": "stream",
     "text": [
      "Topic 0: 0.03642079470079793 * coronavirus, 0.013981761553858168 * new, 0.011199321443637637 * people, 0.0076090761401272754 * pandemic, 0.00621785608501701 * health, 0.006128099952429251 * cases, 0.005432489924874117 * york, 0.004736879897318984 * world, 0.004579806665290406 * virus, 0.00419834310179243 * president \n",
      "\n",
      "Topic 1: 0.03801800933752617 * coronavirus, 0.012944211346933772 * new, 0.00990031796641644 * vaccine, 0.007447684451179455 * pandemic, 0.006418454315321077 * people, 0.006396555801792175 * health, 0.006352758774734372 * president, 0.005958585531214142 * trump, 0.005630107828280617 * cases, 0.005104543503586976 * news \n",
      "\n",
      "Topic 2: 0.03642689722081512 * coronavirus, 0.016551046165205672 * new, 0.009382002695903773 * york, 0.00777218754561143 * pandemic, 0.007149725687498391 * people, 0.007106797283490595 * city, 0.005475517931194354 * cases, 0.0054111253251826604 * vaccine, 0.005389661123178763 * world, 0.0051750191031397835 * outbreak \n",
      "\n",
      "Topic 3: 0.03740872717084873 * coronavirus, 0.010968061076187642 * new, 0.007903745469190496 * people, 0.007838081563326271 * pandemic, 0.006590467351906005 * cases, 0.006568579383284597 * tested, 0.006481027508798964 * positive, 0.006305923759827699 * president, 0.005539844858078412 * health, 0.005036421579786023 * state \n",
      "\n",
      "Topic 4: 0.034645192483723025 * coronavirus, 0.011150959250062199 * pandemic, 0.008639587665644908 * new, 0.007278283442315908 * cases, 0.0068088681928921155 * people, 0.0062220991311123745 * day, 0.005682271594275012 * need, 0.003921964408935789 * briefing, 0.00385155212152222 * workers, 0.003710727546695082 * president \n",
      "\n",
      "Theta Role 0: 0.19938208827829185 * prep.gov, 0.1968850166622779 * pobj.dep, 0.1789742029801415 * det.gov, 0.15961054763050606 * amod.gov, 0.13482143667880397 * amod.dep, 0.11747813927303437 * nsubj.gov, 0.1128699071089359 * nn.dep, 0.11264290059838918 * nn.gov, 0.09847769434027369 * nsubj.dep, 0.09386946217617523 * aux.gov\n",
      "\n",
      "Theta Role 1: 0.19993813985115788 * prep.gov, 0.19531043405991463 * pobj.dep, 0.18551197536927205 * det.gov, 0.1534249745003967 * amod.gov, 0.12823231083072043 * amod.dep, 0.11949633561255715 * nsubj.gov, 0.11144507196554722 * nn.gov, 0.11050064221223227 * nn.dep, 0.10027719013259795 * nsubj.dep, 0.09631058516867516 * aux.gov\n",
      "\n",
      "Theta Role 2: 0.19377126557627217 * prep.gov, 0.19184156008925443 * pobj.dep, 0.1778234696548267 * det.gov, 0.15342489453161393 * amod.gov, 0.13020188711888317 * amod.dep, 0.11784733589740179 * nsubj.gov, 0.11440935485731271 * nn.gov, 0.11015069447217012 * nn.dep, 0.09715290808834948 * nsubj.dep, 0.09231755410938548 * aux.gov\n",
      "\n",
      "Theta Role 3: 0.19996725666165527 * prep.gov, 0.19454846475248805 * pobj.dep, 0.1817970097492137 * det.gov, 0.1566860974552431 * amod.gov, 0.13452669735009548 * amod.dep, 0.12027642756343447 * nsubj.gov, 0.11324352742600467 * nn.gov, 0.10678709451295439 * nn.dep, 0.09915466846216993 * nsubj.dep, 0.09387422868685379 * dobj.gov\n",
      "\n",
      "Theta Role 4: 0.19820738437843158 * prep.gov, 0.1899121993886758 * pobj.dep, 0.17738623236976087 * det.gov, 0.15154993986585094 * amod.gov, 0.1286609337193328 * amod.dep, 0.1255472682933786 * nsubj.gov, 0.10593830664137706 * nn.gov, 0.1019214405575125 * aux.gov, 0.10116085052979851 * nn.dep, 0.09719152132266606 * dobj.gov\n",
      "\n"
     ]
    },
    {
     "name": "stderr",
     "output_type": "stream",
     "text": [
      "\n"
     ]
    }
   ],
   "source": [
    "theta_model.fit()\n",
    "\n",
    "# compute matrices\n",
    "theta_model.compute_matrices()\n",
    "\n",
    "# print topics, theta roles, and top topics/theta roles for each document\n",
    "theta_model.print_all()"
   ]
  },
  {
   "cell_type": "code",
   "execution_count": null,
   "id": "c7882caa-a18d-4922-b466-ab657137b47c",
   "metadata": {},
   "outputs": [],
   "source": [
    "doc_objects['0']['originaltext']"
   ]
  },
  {
   "cell_type": "code",
   "execution_count": 61,
   "id": "14cfe806-c22f-4cd1-983a-f3cfdf74c977",
   "metadata": {},
   "outputs": [],
   "source": [
    "# for doc_id in doc_objects:\n",
    "#     print(doc_id)"
   ]
  },
  {
   "cell_type": "code",
   "execution_count": 62,
   "id": "bc8147dc-fdc6-48a2-937f-88204ebaa604",
   "metadata": {},
   "outputs": [],
   "source": [
    "# dict = {doc_id: doc_objects[str(doc_id)]['originaltext'] for doc_id in doc_objects}"
   ]
  },
  {
   "cell_type": "code",
   "execution_count": 69,
   "id": "5d5f6f7d-97c8-4386-a053-724cfd43d109",
   "metadata": {},
   "outputs": [],
   "source": [
    "# originaltext = list(map(lambda x: id2word.doc2idx(x), text))\n",
    "# originaltext"
   ]
  },
  {
   "cell_type": "code",
   "execution_count": 54,
   "id": "c29280c0-26de-44d2-84a7-20b7150bb44c",
   "metadata": {},
   "outputs": [
    {
     "data": {
      "text/plain": [
       "['President Biden received an updated coronavirus booster shot on Tuesday, using the opportunity to plead with Americans to get boosted ahead of a possible surge in virus cases in the coming months. ']"
      ]
     },
     "execution_count": 54,
     "metadata": {},
     "output_type": "execute_result"
    }
   ],
   "source": [
    "text[0]"
   ]
  },
  {
   "cell_type": "code",
   "execution_count": 70,
   "id": "eaa28370-857d-4b57-a9d7-47f20f60905d",
   "metadata": {},
   "outputs": [],
   "source": [
    "# corpus\n",
    "# top_documents_indx = np.argsort(theta_model.theta[:, 4])[::-1][:10]\n",
    "# top_documents_indx"
   ]
  },
  {
   "cell_type": "markdown",
   "id": "0b33a03d-6139-4969-9597-e788eaeb14e4",
   "metadata": {},
   "source": [
    "# Top documents for topics"
   ]
  },
  {
   "cell_type": "code",
   "execution_count": 15,
   "id": "3b8fac0e-c101-4a4e-a7e6-cfe076775375",
   "metadata": {},
   "outputs": [
    {
     "name": "stdout",
     "output_type": "stream",
     "text": [
      "doc 11388 - 0.9849056603773585 - ['In Opinion\\n\\nJennifer Senior writes, “If the public wants factual news briefings, they need to tune in to those who are giving them: Gov. Andrew Cuomo of New York, Prime Minister Justin Trudeau of Canada and Chancellor Angela Merkel of Germany.” '] \n",
      " \n",
      "doc 2717 - 0.9843137254901961 - ['Domestic travelers to New York State will no longer be required to quarantine starting April 1, Gov. Andrew Cuomo said. New York is among the states leading the nation in the rate of new coronavirus cases per capita. '] \n",
      " \n",
      "doc 2814 - 0.9843137254901961 - ['Texas is ending its statewide mask mandate, Gov. Greg Abbott said on Tuesday. The state will also allow businesses to reopen next Wednesday with no capacity limits. The decision comes after U.S. officials warned governors not to ease virus restrictions.\\n'] \n",
      " \n",
      "doc 4409 - 0.9843137254901961 - [\"Saudi Arabia hoped that hosting the Group of 20 summit this year would cement its global stature. Human rights groups wanted to use it highlight the kingdom's abuses. Instead, the coronavirus has effectively reduced the G-20 summit to a giant webinar. \"] \n",
      " \n",
      "doc 12124 - 0.9843137254901961 - [\"Saudi Arabia cut its oil export oil prices by nearly 10% on Saturday. The dramatic move came in retaliation for Russia's refusal to join OPEC in a large production cut as the coronavirus continues to slow the global economy. \"] \n",
      " \n",
      "doc 31 - 0.9843137254901961 - [\"New York City's subway and bus ridership has struggled to rebound amid the quickly evolving coronavirus and the continued popularity of remote work.\\n\\nThe MTA, the agency that runs the city's public transportation, is facing a $2.5 billion deficit in 2025. \"] \n",
      " \n",
      "doc 332 - 0.9843137254901961 - [\"New York City's subway and bus ridership has struggled to rebound amid the quickly evolving coronavirus and the continued popularity of remote work.\\n\\nThe MTA, the agency that runs the city's public transportation, is facing a $2.5 billion deficit in 2025. \"] \n",
      " \n",
      "doc 5941 - 0.9836734693877551 - [\"Subway ridership is way down in New York City — 20% of the city's 5.5 million weekday riders are using the system. Many fear the confined spaces of subway cars will lead to coronavirus infections. \\n\\nWe looked at how safe the air is on the subway. \\n\"] \n",
      " \n",
      "doc 4187 - 0.9836734693877551 - [\"Bahrain, which has one of the world's highest rates of coronavirus cases per capita, became the second country to give emergency authorization to Pfizer's coronavirus vaccine on Friday. Britain was the first country to approve the vaccine on Wednesday.  \"] \n",
      " \n",
      "doc 4296 - 0.9836734693877551 - [\"Sheriff's deputies shut down a party of 400 people in Midtown Manhattan early Saturday morning. The incident called attention to New Yorkers' continued flouting of coronavirus restrictions, despite a growing second wave of infections. \"] \n",
      " \n",
      "------------------------------------------------------------------------\n",
      "doc 1455 - 0.9854545454545455 - ['Breaking News: Top federal health officials told the White House to scale back a plan to offer coronavirus booster shots to the general public later this month, saying that regulators need more time to collect and review all the necessary data. '] \n",
      " \n",
      "doc 4995 - 0.9843137254901961 - [\"Understanding power means asking tough questions. In the new @nytopinion podcast “Sway,” @karaswisher talks to chief adviser for Operation Warp Speed, Moncef Slaoui, about what he's doing for the coronavirus vaccine efforts — and what kind of influence he really has on it all.\"] \n",
      " \n",
      "doc 2089 - 0.9843137254901961 - ['Delhi, which just weeks ago suffered tens of thousands of new Covid infections, is taking its first steps back to normalcy. Though schools and most businesses are still closed, the city lifted restrictions on manufacturing and construction on Monday. '] \n",
      " \n",
      "doc 180 - 0.9843137254901961 - ['Americans over 60 should get a second booster shot of a coronavirus vaccine, the new White House Covid-19 response coordinator said Sunday, citing “pretty compelling” new data indicating that a fourth shot significantly reduces infections and deaths. '] \n",
      " \n",
      "doc 4443 - 0.9843137254901961 - [\"Understanding power means asking tough questions. In the new @nytopinion podcast “Sway,” @karaswisher talks to chief adviser for Operation Warp Speed, Moncef Slaoui, about what he's doing for the coronavirus vaccine efforts — and what kind of influence he really has on it all.\"] \n",
      " \n",
      "doc 4066 - 0.9836734693877551 - [\"“We could see people getting vaccinated Monday, Tuesday of next week,” Alex Azar, the U.S. secretary of health and human services, said on Friday. The FDA is expected to grant emergency authorization to Pfizer's coronavirus vaccine on Saturday. \"] \n",
      " \n",
      "doc 2838 - 0.9836734693877551 - ['The CDC is urging schools to reopen as soon as possible, but questions of proper ventilation remain.\\n\\nThe New York Times worked with experts to understand the simple steps schools can take to reduce coronavirus exposure in the classroom. '] \n",
      " \n",
      "doc 3081 - 0.9836734693877551 - [\"Cuomo didn't provide any details on which conditions would qualify people to be eligible. But a top aide of his tweeted a list which included cancer, heart conditions, lung diseases, diabetes, obesity and pregnancy. She cautioned the list may change. \"] \n",
      " \n",
      "doc 972 - 0.9836734693877551 - ['An early study of coronavirus cases in South Africa suggests that, so far, Omicron seems to cause lower rates of hospitalization than previous versions of the virus. Epidemiologists have cautioned that more data would be needed to draw firmer conclusions. '] \n",
      " \n",
      "doc 11114 - 0.9829787234042554 - [\"Public health experts are calling for the U.S. government to oversee the nation's ventilator supply so hospitals in different cities and regions aren't forced to ration the lifesaving equipment as peak coronavirus infections hit at different times \"] \n",
      " \n",
      "------------------------------------------------------------------------\n",
      "doc 2420 - 0.9849056603773585 - [\"New Yorkers will soon be able to get Covid vaccines under the model of a blue whale at the American Museum of Natural History, Mayor Bill de Blasio announced on Monday, as the museum is set to be one of the city's newest mass vaccination sites. \"] \n",
      " \n",
      "doc 4573 - 0.9849056603773585 - ['Without a federal policy, many states are weighing public health and the economy. Most business sectors remain open, but New York has imposed new restrictions on restaurants and gyms, and next week Oregon will close gyms, museums and other venues. '] \n",
      " \n",
      "doc 1661 - 0.9836734693877551 - ['New York City will become the first U.S. city to require proof of at least one dose of a coronavirus vaccine for a variety of activities including indoor dining, gyms and performances, Mayor Bill de Blasio announced on Tuesday. '] \n",
      " \n",
      "doc 3889 - 0.9836734693877551 - ['The massive surge of coronavirus infections experts warned would descend upon the U.S. after Thanksgiving never quite came, though select places did see increases. With the holidays in full swing, experts are looking into how to replicate that success. '] \n",
      " \n",
      "doc 6368 - 0.9836734693877551 - ['New York City spent at least $52 million to create a temporary facility in Queens to relieve overwhelmed hospitals. “This facility will be crucial,” Mayor Bill de Blasio said. But in the month it was open, the hospital treated only 79 virus patients. '] \n",
      " \n",
      "doc 11053 - 0.9836734693877551 - ['At a Brooklyn hospital on the front lines of combating the coronavirus outbreak in New York, doctors, nurses and staff say they are in “disaster mode.” Tests and protective gear are in short supply, doctors are falling ill, but the critical work continues. '] \n",
      " \n",
      "doc 12098 - 0.9836734693877551 - ['Hofstra, Yeshiva and Columbia universities canceled classes, and public schools in the suburb of Scarsdale will close for the week. Over the weekend, Gov. Andrew Cuomo of New York announced a state of emergency and said 106 cases were confirmed statewide. '] \n",
      " \n",
      "doc 4856 - 0.9836734693877551 - ['The number of coronavirus tests the U.S. has done does not reflect a successful testing effort, which public health experts consider a crucial part of the tool kit needed to track and contain outbreaks.\\n\\nRead all of our debate fact checks. '] \n",
      " \n",
      "doc 5144 - 0.9836734693877551 - ['\"As I walk home, through the leafy streets, I see children and parents chatting jovially without masks as they await the opening of school gates,\\n writes @petersgoodman, a correspondent in London. \"They look like people lining up to board the Titanic.\"\\n\\n'] \n",
      " \n",
      "doc 12763 - 0.9836734693877551 - ['Zhang Lei is a taxi driver in Wuhan, the city at the epicenter of the coronavirus outbreak. After the local government abruptly locked down the city, he began driving local residents around to buy groceries, get medicine and go to the hospital. '] \n",
      " \n",
      "------------------------------------------------------------------------\n",
      "doc 1405 - 0.9854545454545455 - ['Roughly one million children returned to New York City schools today, most of them for the first time since March 2020.\\n\\nThe New York Times worked with experts to understand the simple steps schools can take to reduce coronavirus exposure in classrooms. '] \n",
      " \n",
      "doc 5205 - 0.9843137254901961 - ['A possible source of the coronavirus spread may have been the ceremony at the White House last Saturday when Trump announced his nomination of Judge Amy Coney Barrett for the Supreme Court.\\n\\nSo far, several people there have since tested positive.\\n'] \n",
      " \n",
      "doc 5142 - 0.9836734693877551 - [\"Polls conducted since President Trump's diagnosis last week found that most Americans feel he hadn't been taking the coronavirus seriously, in terms of policy or personal conduct, and his poll numbers did not seem to show a sympathy bounce. \"] \n",
      " \n",
      "doc 11725 - 0.9836734693877551 - [\"Here's the latest on New York City:\\n\\n— The public school system is closed\\n— Restaurants and bars will be limited to takeout and delivery starting Tuesday\\n— No elected officials are calling for closing off the city by shutting down mass transit or roadways\\n\"] \n",
      " \n",
      "doc 3793 - 0.9836734693877551 - ['Mexico began its coronavirus vaccination campaign on Thursday, becoming the first country in Latin America to do so. María Irene Ramírez, a head nurse at a Mexico City hospital, was the first person in the country to get a shot. '] \n",
      " \n",
      "doc 1023 - 0.9836734693877551 - [\"LeBron James was cleared to play in the Los Angeles Lakers' game against the Los Angeles Clippers on Friday after a false positive coronavirus test landed him in the NBA's health and safety protocols earlier this week, the league said. \"] \n",
      " \n",
      "doc 1019 - 0.9836734693877551 - [\"LeBron James was cleared to play in the Los Angeles Lakers' game against the Los Angeles Clippers on Friday after a false positive coronavirus test landed him in the NBA's health and safety protocols earlier this week, the league said. \"] \n",
      " \n",
      "doc 1570 - 0.9836734693877551 - ['While the absolute numbers remain low, new data on breakthrough coronavirus infections indicates a change in how vaccinated Americans might regard their risk of getting Covid. But it\\'s still \"a pandemic of the unvaccinated,\" federal health officials say. '] \n",
      " \n",
      "doc 3964 - 0.9836734693877551 - ['The New York Times is tracking coronavirus restrictions in the U.S. as states decide what businesses are open or closed — and whether officials require masks or recommend or order staying at home. Stricter local orders may also be in place. '] \n",
      " \n",
      "doc 15 - 0.9829787234042554 - ['The FDA on Wednesday cleared two options aimed at the BA.5 variant of Omicron, hoping to curtail a fall or winter surge. It is the first redesign of a coronavirus vaccine since they first became available nearly two years ago. '] \n",
      " \n",
      "------------------------------------------------------------------------\n",
      "doc 1282 - 0.9843137254901961 - [\"The wave of Delta variant coronavirus cases across the U.S. led to a second straight month of disappointing job growth in September. The 194,000 jobs added were roughly half of August's gains and far below the more than one million jobs added in July. \"] \n",
      " \n",
      "doc 536 - 0.9836734693877551 - ['Some states will close mass coronavirus testing sites in the coming weeks, as many did before the recent Omicron surge, despite concerns among some public health experts that the United States may be unprepared for a new wave of cases.\\n\\n'] \n",
      " \n",
      "doc 4194 - 0.9836734693877551 - [\"U.S. employers added 245,000 jobs in November. It was the fifth month of slowing job growth, and it comes as coronavirus cases are surging across the country.\\n\\nHere's how November's job growth compares to the scale of jobs lost over the course of the pandemic. \"] \n",
      " \n",
      "doc 2355 - 0.9836734693877551 - ['As India experiences a surge in coronavirus cases, scientists are trying to determine if virus variants are to blame.\\n\\nThe evidence is inconclusive, and researchers caution that factors such as low vaccination rates and recent gatherings may play a role.\\n'] \n",
      " \n",
      "doc 10207 - 0.9836734693877551 - ['Farming and manufacturing towns that barely had a confirmed case a week ago are now reporting people dying from the coronavirus. Indian reservations, which grapple with high poverty and inadequate medical services, are confronting soaring numbers of cases. '] \n",
      " \n",
      "doc 2606 - 0.9836734693877551 - ['Papua New Guinea, an island nation north of Australia, is in the grip of a deadly crisis. A tripling of coronavirus infections over the past month has swamped its already fragile health care system, and misinformation is running rife. '] \n",
      " \n",
      "doc 7471 - 0.9836734693877551 - ['Wanting to respond to anxiety over the coronavirus and make use of customer service representatives whose call volume was down, Zappos, the online shoe retailer, started a customer service line that people can call for anything — even just to chat\\n'] \n",
      " \n",
      "doc 204 - 0.9836734693877551 - ['A fire in a Covid ward in Thessaloniki, Greece, killed one person and seriously injured at least two others, an official said. The blaze is the latest of several deadly fires at hospitals treating coronavirus patients in different parts of the world.\\n'] \n",
      " \n",
      "doc 6382 - 0.9836734693877551 - ['U.S. Treasury Secretary Steven Mnuchin said on Monday that Republicans wanted the next economic relief package to cost $1 trillion and that it should not include extra aid for people out of work. The House passed a $3 trillion relief package in May.\\n'] \n",
      " \n",
      "doc 235 - 0.9836734693877551 - ['Some states will close mass coronavirus testing sites in the coming weeks, as many did before the recent Omicron surge, despite concerns among some public health experts that the United States may be unprepared for a new wave of cases.\\n\\n'] \n",
      " \n",
      "------------------------------------------------------------------------\n"
     ]
    }
   ],
   "source": [
    "top_documents_indx = theta_model.print_top_documents_topic()"
   ]
  },
  {
   "cell_type": "markdown",
   "id": "05cf7045-2f44-4fc0-85ee-37bc92878946",
   "metadata": {},
   "source": [
    "# Top documents for theta roles "
   ]
  },
  {
   "cell_type": "code",
   "execution_count": 16,
   "id": "5b6532df-cfac-46eb-945b-a627cc066703",
   "metadata": {},
   "outputs": [
    {
     "name": "stdout",
     "output_type": "stream",
     "text": [
      "doc 10051 - 0.9854545454545455 - [\"To help provide food amid the coronavirus pandemic, Food Bank for New York City has set up pop-up food distribution sites and is planning to deliver groceries, snacks and hygiene items to medical professionals at the city's public hospitals and clinics \"] \n",
      " \n",
      "doc 15541 - 0.9849056603773585 - [\"Two New York City restaurant owners are launching an organization called Safe Eats, which aims to help dining businesses navigate federal, state and city health guidelines and advertise their commitment to diners' safety with a window decal \"] \n",
      " \n",
      "doc 672 - 0.9849056603773585 - ['Two days after Sarah Palin tested positive for the coronavirus, the former Alaska governor dined outdoors in New York City on Wednesday evening, defying federal guidance that infected people isolate from others for at least five full days. '] \n",
      " \n",
      "doc 675 - 0.9849056603773585 - ['Two days after Sarah Palin tested positive for the coronavirus, the former Alaska governor dined outdoors in New York City on Wednesday evening, defying federal guidance that infected people isolate from others for at least five full days. '] \n",
      " \n",
      "doc 8123 - 0.9849056603773585 - ['People who have been exposed to the coronavirus, or are managing the infection at home, should call their doctors if they feel chest pain and shortness of breath, which may signal a blood clot in the lung, or leg pain, swelling, redness and discoloration that may indicate a clot.'] \n",
      " \n",
      "doc 10063 - 0.9849056603773585 - [\"Sandra Lee, the former Food Network personality and “first girlfriend” of New York, wants to teach you how to subsist on affordable staples in quarantine. Like many people, she watches Gov. Andrew Cuomo's daily coronavirus briefings: “He's still my guy.”\\n\"] \n",
      " \n",
      "doc 2907 - 0.9843137254901961 - ['Lucia DeClerck, the oldest resident of a New Jersey nursing home, beat the coronavirus after she tested positive on her 105th birthday.\\n\\nHer tips for living a long and healthy life? Prayer, avoiding junk food and eating nine gin-soaked raisins each morning.'] \n",
      " \n",
      "doc 12293 - 0.9843137254901961 - ['Governor Andrew Cuomo confirmed a second case of coronavirus in New York state, a man in his 50s who is hospitalized. Officials urged calm, reiterating that health officials expect the virus to be found in multiple locations around the state. '] \n",
      " \n",
      "doc 20870 - 0.9843137254901961 - [\"On today's #frontpage: \\n–'Kitchen-table' gun dealers rack up ATF violations: Officials want to show the consequences of hobbyists selling to the wrong buyers.\\n–Coronavirus test options plentiful as demand falls: Makers are confident as they push new products. \"] \n",
      " \n",
      "doc 3815 - 0.9836734693877551 - ['In Opinion\\n\\n\"A year of Covid-19 may undo decades worth of progress toward gender equity in America, that even after the pandemic is brought under control, a generation of working mothers will never recover what they lost,\" writes Kim Brooks.\\n'] \n",
      " \n",
      "------------------------------------------------------------------------\n",
      "doc 1999 - 0.9849056603773585 - [\"Chris Paul of the Phoenix Suns may miss at least some of the remainder of the NBA playoffs after entering the league's coronavirus health and safety protocols. Paul led the Suns to the Western Conference finals with perhaps the best series of his career. \"] \n",
      " \n",
      "doc 22074 - 0.9849056603773585 - [\"White House trade adviser Peter Navarro defended President\\xa0Donald Trump's decision to use\\xa0executive orders to provide relief\\xa0to people impacted economically\\xa0by the coronavirus pandemic, arguing his hand had been forced by congressional inaction.\\xa0\\n\"] \n",
      " \n",
      "doc 22168 - 0.9849056603773585 - [\"A look at Friday's paper:  \\n–'Unbreakable': Honor John Lewis' legacy by continuing the fight for voting rights, former President Barack Obama said during his eulogy.\\n–Economy suffers record Q2 decline: The shutdown due to the coronavirus prompted a historic halt in spending. \"] \n",
      " \n",
      "doc 11657 - 0.9843137254901961 - ['The Treasury Secretary also intends to push for a relief package the House passed last week, which includes paid leave, unemployment insurance, free coronavirus testing and food and healthcare aid. Some Republican senators have been reluctant to accept it.'] \n",
      " \n",
      "doc 21121 - 0.9843137254901961 - ['Less than two weeks after President Joe Biden took office, his call for unity faces its first major test as he presses Congress to pass another economic relief package for Americans hurting from the financial impact of the coronavirus pandemic. '] \n",
      " \n",
      "doc 19012 - 0.9843137254901961 - ['A $500 billion pot of money aimed in part to aid airlines and other big companies includes safeguards intended to prevent misuse, after the fund became a sticking point in negotiations over the $2 trillion coronavirus relief package approved by the Senate '] \n",
      " \n",
      "doc 14319 - 0.9843137254901961 - [\"The Supreme Court confirmation hearings for Judge Amy Coney Barrett, which begin Monday, are expected to renew attention to longstanding fights over abortion rights, health care, gun rights and the government's handling of the coronavirus pandemic \"] \n",
      " \n",
      "doc 15355 - 0.9843137254901961 - ['Senate Republicans are preparing to put out a roughly $1 trillion coronavirus relief bill proposal later Monday, launching a mad dash to reach a bipartisan agreement on the legislation before a federal unemployment insurance supplement ends this week '] \n",
      " \n",
      "doc 20969 - 0.9843137254901961 - ['Nearly 7 million tax filers who await their tax refunds face significant delays this tax season, as the IRS rushes to send out stimulus checks to millions of struggling Americans who have faced economic hardship in the coronavirus pandemic.\\n'] \n",
      " \n",
      "doc 23029 - 0.9843137254901961 - ['ICYMI: Our new diarist for #quarantinediaries is Food Network star @altonbrown, who currently at home outside of Atlanta with his wife, Elizabeth. His day included a hot sauce tasting session and trying to concoct a new margarita recipe! '] \n",
      " \n",
      "------------------------------------------------------------------------\n",
      "doc 12158 - 0.9854545454545455 - ['New York City public schools will probably stay open even if the new coronavirus becomes more widespread because schools double as social service centers for hundreds of thousands of poor students. Officials called long-term closings an “extreme” measure.\\n'] \n",
      " \n",
      "doc 7312 - 0.9849056603773585 - ['“Without tourism, Italy dies,” chanted a tour guide who helped organize a flash mob in Rome. Protests were staged across the country to raise awareness about a profession that faces months of hardship amid the emergence from the coronavirus lockdown. '] \n",
      " \n",
      "doc 25199 - 0.9849056603773585 - ['@usatodaytravel @DrTomFrieden Corrections &amp; clarifications: The Centers for Disease Control found that novel coronavirus RNA, or genetic material, not the coronavirus itself, was identified on surfaces in Diamond Princess cruise ship cabins up to 17 days after cabins were vacated. The article has been updated'] \n",
      " \n",
      "doc 11325 - 0.9849056603773585 - ['As the coronavirus spread across China in early January, international travel continued as normal. Thousands flew from Wuhan to cities around the world.\\n\\nBy the time travel stopped in late January, it was too late. See how an outbreak became a pandemic. '] \n",
      " \n",
      "doc 3489 - 0.9843137254901961 - ['Lee Man-hee, the leader of a religious sect linked to a coronavirus outbreak in South Korea last year, received a three-year suspended prison term for embezzling church money. But he was acquitted on a charge of conspiring to impede virus control efforts. '] \n",
      " \n",
      "doc 2470 - 0.9843137254901961 - ['Since last March, New York Times reporters have tracked every known coronavirus case in every correctional setting in the U.S., including state and federal prisons, immigrant detention centers, juvenile detention facilities, and county and regional jails. '] \n",
      " \n",
      "doc 7207 - 0.9843137254901961 - ['The authorities in Beijing placed a swath of the city under lockdown and tested tens of thousands of people as they rushed to contain a new coronavirus outbreak.\\n\\nDisease experts said bursts of infections were likely to become part of China\\'s \"new normal.\" '] \n",
      " \n",
      "doc 3177 - 0.9836734693877551 - ['Australian officials abruptly locked down the city of Perth for five days, after a security guard at a quarantine hotel tested positive for the coronavirus. The state of Western Australia had gone nearly 10 months without signs of community transmission.\\n'] \n",
      " \n",
      "doc 5941 - 0.9836734693877551 - [\"Subway ridership is way down in New York City — 20% of the city's 5.5 million weekday riders are using the system. Many fear the confined spaces of subway cars will lead to coronavirus infections. \\n\\nWe looked at how safe the air is on the subway. \\n\"] \n",
      " \n",
      "doc 8219 - 0.9836734693877551 - [\"The coronavirus has been detected for the first time among people living in a camp for displaced people in South Sudan, and in a migrant camp in Greece's Aegean Islands, intensifying fears of an outbreak among some of the world's most vulnerable people \"] \n",
      " \n",
      "------------------------------------------------------------------------\n",
      "doc 3038 - 0.9849056603773585 - [\"The FDA granted emergency use authorization to a Covid-19 therapy combining two antibody drugs.\\n\\nResearchers hope Eli Lilly's new combination therapy may be better able to fight coronavirus variants than a similar treatment already in use. \"] \n",
      " \n",
      "doc 2977 - 0.9849056603773585 - ['New York City released data by ZIP codes that suggests the coronavirus vaccine seems to be flowing disproportionately toward areas with wealthy and white residents, even though low-income communities of color remain the hardest hit by the coronavirus. '] \n",
      " \n",
      "doc 1957 - 0.9843137254901961 - ['A new interactive map charts attitudes toward coronavirus vaccination by ZIP code. Created by researchers at the University of Washington, the tool will help state and local health officials in the U.S. conduct highly targeted vaccine drives. '] \n",
      " \n",
      "doc 4637 - 0.9843137254901961 - [\"A new type of test can detect a person's immune response to the coronavirus better than a widely used antibody test, according to research released on Tuesday. The test detects the response of T cells — an arm of the immune system — to the virus.\\n\"] \n",
      " \n",
      "doc 2396 - 0.9843137254901961 - [\"Breaking News: The FDA ended its recommended pause on the Johnson &amp; Johnson vaccine, clearing the way for states across the U.S. to use it again. The agency will add a warning to the vaccine's label noting the potential risk of rare blood clots. \"] \n",
      " \n",
      "doc 9938 - 0.9843137254901961 - ['The \"Red Dawn\" emails capture extraordinary conversations among infectious disease doctors and medical experts, showing their rising sense of frustration with the Trump administration\\'s slow response to the coronavirus.\\n\\nSee key exchanges from the emails.\\n'] \n",
      " \n",
      "doc 9980 - 0.9843137254901961 - ['The \"Red Dawn\" emails capture extraordinary conversations among infectious disease doctors and medical experts, showing their rising sense of frustration with the Trump administration\\'s slow response to the coronavirus. \\n\\nSee key exchanges from the emails.\\n'] \n",
      " \n",
      "doc 1113 - 0.9836734693877551 - [\"Canada approved the use of Pfizer's coronavirus vaccine for children ages 5 to 11 on Friday, the first to be approved for young children in the country. Ontario and Saskatchewan announced plans to schedule appointments for children as soon as doses arrive. \"] \n",
      " \n",
      "doc 7941 - 0.9836734693877551 - [\"A health-risk index was created for us by @policymap, a company that analyzes local health data. \\n\\nThis map shows counties with high rates of diabetes, obesity and other conditions that increase residents' risk of becoming severely ill if they are infected with the coronavirus. \"] \n",
      " \n",
      "doc 3113 - 0.9836734693877551 - ['Covax, an international program to supply Covid-19 vaccines at low or no cost to countries around the world, plans to deliver more than 300 million doses by June 30. But many poor nations are still likely to lag far behind in vaccinating their citizens. '] \n",
      " \n",
      "------------------------------------------------------------------------\n",
      "doc 450 - 0.9859649122807018 - [\"Breaking News: New York City entered a higher Covid risk level, a troubling reminder that the pandemic isn't over and residents are still at risk. The city is seeing nearly 2,500 new cases per day, a jump from about 600 daily cases in early March. \"] \n",
      " \n",
      "doc 23743 - 0.9849056603773585 - [\"A look at Wednesday's paper:  \\n--Appetite for Big Government soars: According to a new USA TODAY poll, half of Americans say the feds are doing too little.\\n--The US hit 1 million confirmed coronavirus cases. But the lack of testing leaves many victims uncounted. \"] \n",
      " \n",
      "doc 13174 - 0.9849056603773585 - [\"With the U.K. government's plans to drop almost all coronavirus restrictions in England next week, Prime Minister Boris Johnson is gambling that vaccines will prevent another large wave of deaths even as coronavirus cases linked to the Delta variant surge \"] \n",
      " \n",
      "doc 4661 - 0.9849056603773585 - [\"France's new partial lockdown is taking less of a toll on the economy than the total lockdown imposed earlier this year, the French central bank said. But business leaders still expect a sharp decline in activity across the board in November. \"] \n",
      " \n",
      "doc 212 - 0.9843137254901961 - ['As England moved to end free Covid testing for most of its population, the percentage of positive coronavirus cases reached record levels in England and Wales — the highest since the Office of National Statistics began surveying the rates in April 2020. '] \n",
      " \n",
      "doc 4389 - 0.9843137254901961 - ['Gyms, stores and hair salons will be allowed to reopen in England next week, Prime Minister Boris Johnson said, but pubs and restaurants will stay closed. Collective worship, weddings and outdoor sports will be allowed to resume as well. '] \n",
      " \n",
      "doc 164 - 0.9843137254901961 - [\"Global stocks fell on fears that a coronavirus outbreak in Beijing could lead to broader lockdowns in China.\\n\\nThe Shanghai composite fell 5.1%, the index's biggest daily decline since February 2020, and the Hang Seng in Hong Kong lost 3.7%. \\n\"] \n",
      " \n",
      "doc 14053 - 0.9843137254901961 - [\"Coronavirus infections in the U.S. set a record for the fourth straight day on Saturday as new cases rose by 127,399, bringing Saturday's cumulative total to 9.86 million, as cities and states introduced new restrictions to combat a new wave of cases \"] \n",
      " \n",
      "doc 400 - 0.9843137254901961 - ['Coronavirus cases are surging, gas prices keep hitting record highs and heat waves and storms are forecast for many parts of the U.S. But this Memorial Day weekend is still expected to be one of the busiest travel periods since the start of the pandemic. '] \n",
      " \n",
      "doc 25752 - 0.9843137254901961 - ['A look at Tuesday\\'s paper: Americans could be social distancing through August as officials tell people to avoid gatherings of 10 or more due to coronavirus; Almost 7 million in Bay Area locked down: People in six counties are ordered to \"shelter in place\" in their homes '] \n",
      " \n",
      "------------------------------------------------------------------------\n"
     ]
    }
   ],
   "source": [
    "top_documents_indx = theta_model.print_top_documents_theta()"
   ]
  },
  {
   "cell_type": "code",
   "execution_count": 15,
   "id": "d9a75e8d-52ff-4b8b-b42f-6fa5cdde34f2",
   "metadata": {},
   "outputs": [],
   "source": [
    "top_documents_indx"
   ]
  }
 ],
 "metadata": {
  "kernelspec": {
   "display_name": "Python 3 (ipykernel)",
   "language": "python",
   "name": "python3"
  },
  "language_info": {
   "codemirror_mode": {
    "name": "ipython",
    "version": 3
   },
   "file_extension": ".py",
   "mimetype": "text/x-python",
   "name": "python",
   "nbconvert_exporter": "python",
   "pygments_lexer": "ipython3",
   "version": "3.8.6"
  }
 },
 "nbformat": 4,
 "nbformat_minor": 5
}
