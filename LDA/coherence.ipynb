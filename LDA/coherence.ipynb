# Importing the libiraries
import gensim


#check Gensim version
assert '3.8.2' <= gensim.__version__ <= '3.8.3', 'You must install Gensim 3.8.3 or 3.8.2 to be able to run LDA Mallet'


from gensim.models.wrappers import LdaMallet
from gensim.models.coherencemodel import CoherenceModel
from gensim.models import LdaModel

import pandas as pd
import numpy as np


import math
import sys

import matplotlib.pyplot as plt

import pickle

from scipy.spatial.distance import jensenshannon
# try:
# 	from hungarian_algorithm import algorithm
# except:
# 	print('You need to install "hungarian_algorithm" package to run this code')
# 	exit()


# from post_processing import jaccard_sim, dice_sim, similarity_computation
# from pre_processing import loading_wiki_docs, prepare_corpus, preprocess_data, term_pairs_generator

# from diskcache_class import db

import platform 
#checking OS
if 'windows' in platform.system().lower():
	mallet_path = 'c:/mallet-2.0.8/bin/mallet'
elif 'linux' in platform.system().lower():
    import os
    os.environ['MALLET_HOME'] = 'mallet-2.0.8/'
    mallet_path = 'mallet-2.0.8/bin/mallet' # you should NOT need to change this
#     os.environ['MALLET_HOME'] = '../mallet-2.0.8/'
#     mallet_path = '../mallet-2.0.8/bin/mallet' # you should NOT need to change this 
else:
	mallet_path = 'mallet'
